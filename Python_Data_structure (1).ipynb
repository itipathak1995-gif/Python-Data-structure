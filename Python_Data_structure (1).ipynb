{
  "nbformat": 4,
  "nbformat_minor": 0,
  "metadata": {
    "colab": {
      "provenance": []
    },
    "kernelspec": {
      "name": "python3",
      "display_name": "Python 3"
    },
    "language_info": {
      "name": "python"
    }
  },
  "cells": [
    {
      "cell_type": "code",
      "execution_count": null,
      "metadata": {
        "id": "Tz2cXwuBZjyC"
      },
      "outputs": [],
      "source": []
    },
    {
      "cell_type": "markdown",
      "source": [],
      "metadata": {
        "id": "zLWNmRAgh4rK"
      }
    },
    {
      "cell_type": "markdown",
      "source": [
        "1. What are data structures, and why are they important?\n",
        " - Data structures are organized ways to store and manage data so it can be used efficiently. They are important because they make tasks like searching, sorting, and processing information faster and more effective, helping both software and systems run smoothly.\n",
        "2. Explain the difference between mutable and immutable data types with examples?\n",
        "- Mutable data types can be changed after creation (e.g., lists in Python: [1,2,3] → [1,2,4]).\n",
        "Immutable data types cannot be changed once created (e.g., strings: \"hello\" always stays the same, changes create a new string).\n",
        "3. What are the main differences between lists and tuples in Python?\n",
        "- Lists are mutable, that is their elements can be changed, altered, added, or removed. whereas Tuples are immutable, so once created, their elements cannot be modified.\n",
        "4. Describe how dictionaries store data?\n",
        "- Dictionaries store data in key value pairs, where each key is unique and maps directly to a value. This structure allows quick access, modification, and organization of data, making it ideal for situations where you need to look up information efficiently.\n",
        "5. Why might you use a set instead of a list in Python?\n",
        "- We might use a set instead of a list to store unique elements and perform operations like union, intersection, or difference efficiently. Sets also provide faster membership testing compared to lists.\n",
        "6. What is a string in Python, and how is it different from a list?\n",
        "- A string in Python is a sequence of characters enclosed in quotes, used to represent text. Unlike a list, a string is immutable, so its characters cannot be changed individually, whereas list elements can be modified.\n",
        "7. How do tuples ensure data integrity in Python?\n",
        "- Tuples ensure data integrity in Python because they are immutable, meaning once created, their elements cannot be changed. This prevents accidental modifications and makes them reliable for storing fixed data.\n",
        "8. What is a hash table, and how does it relate to dictionaries in Python?\n",
        "- A hash table is a data structure that maps keys to values using a hash function for fast access. In Python, dictionaries are implemented using hash tables, allowing quick retrieval, insertion, and deletion of key value pairs.\n",
        "9. Can lists contain different data types in Python?\n",
        "- Yes, lists in Python can contain different data types together, such as integers, strings, and even other lists, making them flexible for storing mixed data.\n",
        "10. Explain why strings are immutable in Python?\n",
        "- Strings are immutable in Python to ensure consistency and safety. Once created, their value cannot be changed, which prevents accidental modifications and allows Python to optimize memory and performance.\n",
        "11. What advantages do dictionaries offer over lists for certain tasks?\n",
        "- Dictionaries offer fast data lookup using keys, easy organization of related data, and ensure unique identifiers for each value, making them more efficient than lists for tasks requiring quick access or mapping relationships.\n",
        "12. Describe a scenario where using a tuple would be preferable over a list?\n",
        "- Using a tuple is preferable when you need to store fixed data that shouldnot change, like coordinates (x, y) or configuration settings, ensuring the data remains safe and consistent throughout the program.\n",
        "13. How do sets handle duplicate values in Python?\n",
        "- Sets automatically remove duplicate values, storing only unique elements, which makes them ideal for tasks like filtering repeated data or checking membership efficiently.\n",
        "14. How does the “in” keyword work differently for lists and dictionaries?\n",
        "- In lists, the 'in' keyword checks if a value exists in the list.\n",
        "In dictionaries, 'in' checks if a key exists, not the value, for quick key-based lookup.\n",
        "15. Can you modify the elements of a tuple? Explain why or why not?\n",
        "- No, you cannot modify elements of a tuple because tuples are immutable. Once created, their content cannot be changed, ensuring data integrity and preventing accidental updates.\n",
        "16. What is a nested dictionary, and give an example of its use case?\n",
        "- A nested dictionary is a dictionary that contains another dictionary as a value.\n",
        "Example: storing student data with subjects and marks:\n",
        "students = {\"Alice\": {\"Math\": 90, \"Science\": 85},\n",
        "    \"Bob\": {\"Math\": 75, \"Science\": 80}}\n",
        "It is useful for organizing hierarchical or structured data.\n",
        "17. Describe the time complexity of accessing elements in a dictionary?\n",
        "- Accessing elements in a dictionary has an average time complexity of O(1) because it uses a hash table, allowing near-instant retrieval of values by their keys.\n",
        "18. In what situations are lists preferred over dictionaries?\n",
        "- Lists are preferred when you need ordered collections, want to store duplicate values, or need to access elements by position rather than by key.\n",
        "19. Why are dictionaries considered unordered, and how does that affect data retrieval?\n",
        "- Dictionaries are considered unordered because they do not maintain a specific element sequence (in Python <3.7).\n",
        "20. Explain the difference between a list and a dictionary in terms of data retrieval.\n",
        "- In a list, data is retrieved by index, so searching for a value may require scanning elements (O(n) time).\n",
        "In a dictionary, data is retrieved by key, allowing fast access in O(1) time using the hash table.\n"
      ],
      "metadata": {
        "id": "JbgO-lg9bBg6"
      }
    },
    {
      "cell_type": "markdown",
      "source": [
        "1. Write a code to create a string with your name and print it?\n"
      ],
      "metadata": {
        "id": "bbYM2_7sjbPu"
      }
    },
    {
      "cell_type": "code",
      "source": [
        "1. # Create a string with your name\n",
        "name = \"Itishri\"\n",
        "# Print the string\n",
        "print(name)\n"
      ],
      "metadata": {
        "colab": {
          "base_uri": "https://localhost:8080/"
        },
        "id": "Enl7HSgDi6Cy",
        "outputId": "08520897-f3f0-4dec-df34-1d51227c0a5b"
      },
      "execution_count": 1,
      "outputs": [
        {
          "output_type": "stream",
          "name": "stdout",
          "text": [
            "Itishri\n"
          ]
        }
      ]
    },
    {
      "cell_type": "markdown",
      "source": [
        "2. Write a code to find the length of the string \"Hello World\"?\n"
      ],
      "metadata": {
        "id": "CnrHkvcKh0xO"
      }
    },
    {
      "cell_type": "code",
      "source": [
        "2. # String\n",
        "text = \"Hello World\"\n",
        "\n",
        "# Find length\n",
        "length = len(text)\n",
        "\n",
        "\n",
        "# Print length\n",
        "print(length)\n"
      ],
      "metadata": {
        "colab": {
          "base_uri": "https://localhost:8080/"
        },
        "id": "Z9mOu1fgjSFW",
        "outputId": "4760bf41-5ed7-46c4-d46a-9fb0c8bc93cd"
      },
      "execution_count": 2,
      "outputs": [
        {
          "output_type": "stream",
          "name": "stdout",
          "text": [
            "11\n"
          ]
        }
      ]
    },
    {
      "cell_type": "markdown",
      "source": [
        "3. Write a code to slice the first 3 characters from the string \"Python Programming\"?"
      ],
      "metadata": {
        "id": "Wuq3i_8BkRj4"
      }
    },
    {
      "cell_type": "code",
      "source": [
        "3. # String\n",
        "text = \"Python Programming\"\n",
        "\n",
        "# Slice first 3 characters\n",
        "slice_text = text[:3]\n",
        "\n",
        "# Print the result\n",
        "print(slice_text)"
      ],
      "metadata": {
        "colab": {
          "base_uri": "https://localhost:8080/"
        },
        "id": "QdkjhMS9kXeO",
        "outputId": "e7724cfb-870a-4a4e-d886-c2a2271121c8"
      },
      "execution_count": 3,
      "outputs": [
        {
          "output_type": "stream",
          "name": "stdout",
          "text": [
            "Pyt\n"
          ]
        }
      ]
    },
    {
      "cell_type": "markdown",
      "source": [
        "4. Write a code to convert the string \"hello\" to uppercase?\n"
      ],
      "metadata": {
        "id": "UihPn-e-klVL"
      }
    },
    {
      "cell_type": "code",
      "source": [
        "4. # String\n",
        "text = \"hello\"\n",
        "\n",
        "# Convert to uppercase\n",
        "upper_text = text.upper()\n",
        "\n",
        "# Print result\n",
        "print(upper_text)"
      ],
      "metadata": {
        "colab": {
          "base_uri": "https://localhost:8080/"
        },
        "id": "rqFZixHLkqzE",
        "outputId": "c6beca9e-4f94-4ff6-ba8d-d8bcc467fc7b"
      },
      "execution_count": 4,
      "outputs": [
        {
          "output_type": "stream",
          "name": "stdout",
          "text": [
            "HELLO\n"
          ]
        }
      ]
    },
    {
      "cell_type": "markdown",
      "source": [
        "5. Write a code to replace the word \"apple\" with \"orange\" in the string \"I like apple\"?\n"
      ],
      "metadata": {
        "id": "YzE23unEk5jX"
      }
    },
    {
      "cell_type": "code",
      "source": [
        "5.  # Original string\n",
        "text = \"I like apple\"\n",
        "\n",
        "# Replace 'apple' with 'orange'\n",
        "new_text = text.replace(\"apple\", \"orange\")\n",
        "\n",
        "\n",
        "# Print result\n",
        "print(new_text)"
      ],
      "metadata": {
        "colab": {
          "base_uri": "https://localhost:8080/"
        },
        "id": "L4fUkM62k_LN",
        "outputId": "197f7e65-3e27-4f33-ef87-4c34b4db65b1"
      },
      "execution_count": 5,
      "outputs": [
        {
          "output_type": "stream",
          "name": "stdout",
          "text": [
            "I like orange\n"
          ]
        }
      ]
    },
    {
      "cell_type": "markdown",
      "source": [
        "6.  Write a code to create a list with numbers 1 to 5 and print it?\n",
        "\n"
      ],
      "metadata": {
        "id": "ni3GfTjqlLOS"
      }
    },
    {
      "cell_type": "code",
      "source": [
        "6.  # Create a list with numbers 1 to 5\n",
        "numbers = [1, 2, 3, 4, 5]\n",
        "\n",
        "\n",
        "# Print the list\n",
        "print(numbers)"
      ],
      "metadata": {
        "colab": {
          "base_uri": "https://localhost:8080/"
        },
        "id": "RPG0gAgjlR0b",
        "outputId": "b8408bd2-b4c0-4031-be55-5c14d97d00dd"
      },
      "execution_count": 6,
      "outputs": [
        {
          "output_type": "stream",
          "name": "stdout",
          "text": [
            "[1, 2, 3, 4, 5]\n"
          ]
        }
      ]
    },
    {
      "cell_type": "markdown",
      "source": [
        "7. Write a code to append the number 10 to the list [1, 2, 3, 4]?"
      ],
      "metadata": {
        "id": "6d4fsTR4lc6z"
      }
    },
    {
      "cell_type": "code",
      "source": [
        "7. # Original list\n",
        "numbers = [1, 2, 3, 4]\n",
        "\n",
        "# Append 10\n",
        "numbers.append(10)\n",
        "\n",
        "# Print updated list\n",
        "print(numbers)"
      ],
      "metadata": {
        "colab": {
          "base_uri": "https://localhost:8080/"
        },
        "id": "X3QYquzMljDS",
        "outputId": "eca95a4a-1d53-4797-f231-97bed7bd0c90"
      },
      "execution_count": 7,
      "outputs": [
        {
          "output_type": "stream",
          "name": "stdout",
          "text": [
            "[1, 2, 3, 4, 10]\n"
          ]
        }
      ]
    },
    {
      "cell_type": "markdown",
      "source": [
        "8. Write a code to remove the number 3 from the list [1, 2, 3, 4, 5]?"
      ],
      "metadata": {
        "id": "wyOGUYHQlr_V"
      }
    },
    {
      "cell_type": "code",
      "source": [
        "8. # Original list\n",
        "numbers = [1, 2, 3, 4, 5]\n",
        "\n",
        "# Remove number 3\n",
        "numbers.remove(3)\n",
        "\n",
        "# Print updated list\n",
        "print(numbers)"
      ],
      "metadata": {
        "colab": {
          "base_uri": "https://localhost:8080/"
        },
        "id": "XqPBF-1elwqN",
        "outputId": "ecca0762-5a0f-4be6-a195-73c1d423035e"
      },
      "execution_count": 8,
      "outputs": [
        {
          "output_type": "stream",
          "name": "stdout",
          "text": [
            "[1, 2, 4, 5]\n"
          ]
        }
      ]
    },
    {
      "cell_type": "markdown",
      "source": [
        "9. P Write a code to access the second element in the list ['a', 'b', 'c', 'd']?"
      ],
      "metadata": {
        "id": "uVGrFcYRl9f3"
      }
    },
    {
      "cell_type": "code",
      "source": [
        "9. # List\n",
        "letters = ['a', 'b', 'c', 'd']\n",
        "\n",
        "# Access second element\n",
        "second_element = letters[1]\n",
        "\n",
        "# Print result\n",
        "print(second_element)"
      ],
      "metadata": {
        "colab": {
          "base_uri": "https://localhost:8080/"
        },
        "id": "_00_wetumI0k",
        "outputId": "ec09df8a-ced8-4152-fe90-22cd01437cac"
      },
      "execution_count": 9,
      "outputs": [
        {
          "output_type": "stream",
          "name": "stdout",
          "text": [
            "b\n"
          ]
        }
      ]
    },
    {
      "cell_type": "markdown",
      "source": [
        " 10. Write a code to reverse the list [10, 20, 30, 40, 50]."
      ],
      "metadata": {
        "id": "Fsrz4yJTmXk-"
      }
    },
    {
      "cell_type": "code",
      "source": [
        "10. # Original list\n",
        "numbers = [10, 20, 30, 40, 50]\n",
        "\n",
        "# Reverse the list\n",
        "numbers.reverse()\n",
        "\n",
        "# Print reversed list\n",
        "print(numbers)"
      ],
      "metadata": {
        "colab": {
          "base_uri": "https://localhost:8080/"
        },
        "id": "27BY3aVUnT7n",
        "outputId": "900ccb68-8854-4ffd-de17-4e0d127fd8b5"
      },
      "execution_count": 12,
      "outputs": [
        {
          "output_type": "stream",
          "name": "stdout",
          "text": [
            "[50, 40, 30, 20, 10]\n"
          ]
        }
      ]
    },
    {
      "cell_type": "markdown",
      "source": [
        "11. Write a code to create a tuple with the elements 100, 200, 300 and print it."
      ],
      "metadata": {
        "id": "FV4dggAendFz"
      }
    },
    {
      "cell_type": "code",
      "source": [
        "11. # Create a tuple\n",
        "numbers = (100, 200, 300)\n",
        "\n",
        "\n",
        "# Print the tuple\n",
        "print(numbers)"
      ],
      "metadata": {
        "colab": {
          "base_uri": "https://localhost:8080/"
        },
        "id": "p1DOY_nnnmzF",
        "outputId": "f67db7a9-b05b-4082-de37-7fa77f16bd1d"
      },
      "execution_count": 13,
      "outputs": [
        {
          "output_type": "stream",
          "name": "stdout",
          "text": [
            "(100, 200, 300)\n"
          ]
        }
      ]
    },
    {
      "cell_type": "markdown",
      "source": [
        "12.  Write a code to access the second-to-last element of the tuple ('red', 'green', 'blue', 'yellow')."
      ],
      "metadata": {
        "id": "1MeYVzn2nvhc"
      }
    },
    {
      "cell_type": "code",
      "source": [
        "12. # Tuple\n",
        "colors = ('red', 'green', 'blue', 'yellow')\n",
        "\n",
        "# Access second-to-last element\n",
        "second_last = colors[-2]\n",
        "\n",
        "# Print result\n",
        "print(second_last)"
      ],
      "metadata": {
        "colab": {
          "base_uri": "https://localhost:8080/"
        },
        "id": "6J4irqQCn2jb",
        "outputId": "6d62fd5b-7625-4322-9ae4-8ae750b00f03"
      },
      "execution_count": 14,
      "outputs": [
        {
          "output_type": "stream",
          "name": "stdout",
          "text": [
            "blue\n"
          ]
        }
      ]
    },
    {
      "cell_type": "markdown",
      "source": [
        "13.  Write a code to find the minimum number in the tuple (10, 20, 5, 15)."
      ],
      "metadata": {
        "id": "h1W9KJeWoA1_"
      }
    },
    {
      "cell_type": "code",
      "source": [
        "13.  # Tuple\n",
        "numbers = (10, 20, 5, 15)\n",
        "\n",
        "# Find minimum number\n",
        "min_number = min(numbers)\n",
        "\n",
        "# Print result\n",
        "print(min_number)"
      ],
      "metadata": {
        "colab": {
          "base_uri": "https://localhost:8080/"
        },
        "id": "hO2ohh2YoLuk",
        "outputId": "698a8a18-962b-49ba-9b10-3953700dce47"
      },
      "execution_count": 15,
      "outputs": [
        {
          "output_type": "stream",
          "name": "stdout",
          "text": [
            "5\n"
          ]
        }
      ]
    },
    {
      "cell_type": "markdown",
      "source": [
        "14. Write a code to find the index of the element \"cat\" in the tuple ('dog', 'cat', 'rabbit')."
      ],
      "metadata": {
        "id": "iI37OJgdoWQy"
      }
    },
    {
      "cell_type": "code",
      "source": [
        "14.    # Tuple\n",
        "animals = ('dog', 'cat', 'rabbit')\n",
        "\n",
        "# Find index of 'cat'\n",
        "index_cat = animals.index('cat')\n",
        "\n",
        "# Print result\n",
        "print(index_cat)"
      ],
      "metadata": {
        "colab": {
          "base_uri": "https://localhost:8080/"
        },
        "id": "d6yTiFJAoliD",
        "outputId": "03ec959b-7224-482f-c960-d70a21f4c05b"
      },
      "execution_count": 16,
      "outputs": [
        {
          "output_type": "stream",
          "name": "stdout",
          "text": [
            "1\n"
          ]
        }
      ]
    },
    {
      "cell_type": "markdown",
      "source": [
        "15. Write a code to create a tuple containing three different fruits and check if \"kiwi\" is in it."
      ],
      "metadata": {
        "id": "nJPi3he5ot-I"
      }
    },
    {
      "cell_type": "code",
      "source": [
        "15.  # Tuple with fruits\n",
        "fruits = ('apple', 'banana', 'mango')\n",
        "\n",
        "# Check if 'kiwi' is in the tuple\n",
        "is_kiwi_present = 'kiwi' in fruits\n",
        "\n",
        "# Print result\n",
        "print(is_kiwi_present)\n"
      ],
      "metadata": {
        "colab": {
          "base_uri": "https://localhost:8080/"
        },
        "id": "0QUOyVAgo1sY",
        "outputId": "39e3e9fc-d87c-41da-b7b6-5c31c86b3fec"
      },
      "execution_count": 17,
      "outputs": [
        {
          "output_type": "stream",
          "name": "stdout",
          "text": [
            "False\n"
          ]
        }
      ]
    },
    {
      "cell_type": "markdown",
      "source": [
        "16. Write a code to create a set with the elements 'a', 'b', 'c' and print it.\n",
        "\n"
      ],
      "metadata": {
        "id": "_V5d0mwFpFGi"
      }
    },
    {
      "cell_type": "code",
      "source": [
        "16. # Create a set\n",
        "letters = {'a', 'b', 'c'}\n",
        "\n",
        "# Print the set\n",
        "print(letters)\n"
      ],
      "metadata": {
        "colab": {
          "base_uri": "https://localhost:8080/"
        },
        "id": "n875l1JBpOcK",
        "outputId": "64fd3fc2-a0c7-4043-85d4-09ed019d26f3"
      },
      "execution_count": 18,
      "outputs": [
        {
          "output_type": "stream",
          "name": "stdout",
          "text": [
            "{'b', 'a', 'c'}\n"
          ]
        }
      ]
    },
    {
      "cell_type": "markdown",
      "source": [
        "17. Write a code to clear all elements from the set {1, 2, 3, 4, 5}."
      ],
      "metadata": {
        "id": "STASaHUHpZMM"
      }
    },
    {
      "cell_type": "code",
      "source": [
        "17.  # Original set\n",
        "numbers = {1, 2, 3, 4, 5}\n",
        "\n",
        "# Clear all elements\n",
        "numbers.clear()\n",
        "\n",
        "# Print the set\n",
        "print(numbers)"
      ],
      "metadata": {
        "colab": {
          "base_uri": "https://localhost:8080/"
        },
        "id": "6MTnNktNpg5X",
        "outputId": "9c54bef4-942e-4edb-957c-b785775e0476"
      },
      "execution_count": 19,
      "outputs": [
        {
          "output_type": "stream",
          "name": "stdout",
          "text": [
            "set()\n"
          ]
        }
      ]
    },
    {
      "cell_type": "markdown",
      "source": [
        "18. Write a code to remove the element 4 from the set {1, 2, 3, 4}.\n",
        "\n"
      ],
      "metadata": {
        "id": "mxaX4QOVp1uk"
      }
    },
    {
      "cell_type": "code",
      "source": [
        "18. # Original set\n",
        "numbers = {1, 2, 3, 4}\n",
        "\n",
        "# Remove element 4\n",
        "numbers.remove(4)\n",
        "\n",
        "# Print updated set\n",
        "print(numbers)"
      ],
      "metadata": {
        "colab": {
          "base_uri": "https://localhost:8080/"
        },
        "id": "auxJZq3ep87A",
        "outputId": "9109af34-312e-4ee4-f5c5-7b4f043b9061"
      },
      "execution_count": 20,
      "outputs": [
        {
          "output_type": "stream",
          "name": "stdout",
          "text": [
            "{1, 2, 3}\n"
          ]
        }
      ]
    },
    {
      "cell_type": "markdown",
      "source": [
        "19. Write a code to find the union of two sets {1, 2, 3} and {3, 4, 5}."
      ],
      "metadata": {
        "id": "x0KsvmXeqSZ8"
      }
    },
    {
      "cell_type": "code",
      "source": [
        "19. # Two sets\n",
        "set1 = {1, 2, 3}\n",
        "set2 = {3, 4, 5}\n",
        "\n",
        "# Find union\n",
        "union_set = set1.union(set2)\n",
        "\n",
        "# Print result\n",
        "print(union_set)"
      ],
      "metadata": {
        "colab": {
          "base_uri": "https://localhost:8080/"
        },
        "id": "FXDEyCxfqZSC",
        "outputId": "b7351423-7bb3-4feb-af8b-a11e39e248d8"
      },
      "execution_count": 21,
      "outputs": [
        {
          "output_type": "stream",
          "name": "stdout",
          "text": [
            "{1, 2, 3, 4, 5}\n"
          ]
        }
      ]
    },
    {
      "cell_type": "markdown",
      "source": [
        "20. Write a code to find the intersection of two sets {1, 2, 3} and {2, 3, 4}."
      ],
      "metadata": {
        "id": "5NVuWQkdqoqH"
      }
    },
    {
      "cell_type": "code",
      "source": [
        "20. # Two sets\n",
        "set1 = {1, 2, 3}\n",
        "set2 = {2, 3, 4}\n",
        "\n",
        "#Find intersection\n",
        "intersection_set = set1.intersection(set2)\n",
        "\n",
        "#Print result\n",
        "print(intersection_set)"
      ],
      "metadata": {
        "colab": {
          "base_uri": "https://localhost:8080/"
        },
        "id": "USn5LNnLqwDP",
        "outputId": "96cbd50d-9598-4d93-9faf-3531972a246b"
      },
      "execution_count": 22,
      "outputs": [
        {
          "output_type": "stream",
          "name": "stdout",
          "text": [
            "{2, 3}\n"
          ]
        }
      ]
    },
    {
      "cell_type": "markdown",
      "source": [
        "21. Write a code to create a dictionary with the keys \"name\", \"age\", and \"city\", and print it."
      ],
      "metadata": {
        "id": "jC7Z6KKire86"
      }
    },
    {
      "cell_type": "code",
      "source": [
        "21. # Create a dictionary\n",
        "person = {\"name\": \"Itishri\", \"age\": 30, \"city\": \"Indore\"}\n",
        "\n",
        "# Print the dictionary\n",
        "print(person)"
      ],
      "metadata": {
        "colab": {
          "base_uri": "https://localhost:8080/"
        },
        "id": "TAZraBNFrlfr",
        "outputId": "7fd7cfe2-fe3d-4c82-d3ea-e5b9bf69e159"
      },
      "execution_count": 23,
      "outputs": [
        {
          "output_type": "stream",
          "name": "stdout",
          "text": [
            "{'name': 'Itishri', 'age': 30, 'city': 'Indore'}\n"
          ]
        }
      ]
    },
    {
      "cell_type": "markdown",
      "source": [
        "22. Write a code to add a new key-value pair \"country\": \"USA\" to the dictionary {'name': 'John', 'age': 25}."
      ],
      "metadata": {
        "id": "ufgPtFyFrw_E"
      }
    },
    {
      "cell_type": "code",
      "source": [
        "22. # Original dictionary\n",
        "person = {'name': 'John', 'age': 25}\n",
        "\n",
        "# Add new key-value pair\n",
        "person['country'] = 'USA'\n",
        "\n",
        "# Print updated dictionary\n",
        "print(person)"
      ],
      "metadata": {
        "colab": {
          "base_uri": "https://localhost:8080/"
        },
        "id": "SOfQK3XVr2vx",
        "outputId": "ec680968-748d-43ca-e295-4fbf8cddb377"
      },
      "execution_count": 24,
      "outputs": [
        {
          "output_type": "stream",
          "name": "stdout",
          "text": [
            "{'name': 'John', 'age': 25, 'country': 'USA'}\n"
          ]
        }
      ]
    },
    {
      "cell_type": "markdown",
      "source": [
        "23. Write a code to access the value associated with the key \"name\" in the dictionary {'name': 'Alice', 'age': 30}."
      ],
      "metadata": {
        "id": "wxDJ2KWPsFre"
      }
    },
    {
      "cell_type": "code",
      "source": [
        "23. # Original dictionary\n",
        "person = {'name': Alice, 'age': 30}\n",
        "\n",
        "# Access value of 'name'\n",
        "name_value = person['name']\n",
        "\n",
        "# Print result\n",
        "print(name_value)"
      ],
      "metadata": {
        "colab": {
          "base_uri": "https://localhost:8080/",
          "height": 211
        },
        "id": "jWi8EWUasMF2",
        "outputId": "5bd48f71-d6eb-4369-9825-52a6bb8d4268"
      },
      "execution_count": 25,
      "outputs": [
        {
          "output_type": "error",
          "ename": "NameError",
          "evalue": "name 'Alice' is not defined",
          "traceback": [
            "\u001b[0;31m---------------------------------------------------------------------------\u001b[0m",
            "\u001b[0;31mNameError\u001b[0m                                 Traceback (most recent call last)",
            "\u001b[0;32m/tmp/ipython-input-2182446399.py\u001b[0m in \u001b[0;36m<cell line: 0>\u001b[0;34m()\u001b[0m\n\u001b[1;32m      1\u001b[0m \u001b[0;36m23.\u001b[0m \u001b[0;31m# Original dictionary\u001b[0m\u001b[0;34m\u001b[0m\u001b[0;34m\u001b[0m\u001b[0m\n\u001b[0;32m----> 2\u001b[0;31m \u001b[0mperson\u001b[0m \u001b[0;34m=\u001b[0m \u001b[0;34m{\u001b[0m\u001b[0;34m'name'\u001b[0m\u001b[0;34m:\u001b[0m \u001b[0mAlice\u001b[0m\u001b[0;34m,\u001b[0m \u001b[0;34m'age'\u001b[0m\u001b[0;34m:\u001b[0m \u001b[0;36m30\u001b[0m\u001b[0;34m}\u001b[0m\u001b[0;34m\u001b[0m\u001b[0;34m\u001b[0m\u001b[0m\n\u001b[0m\u001b[1;32m      3\u001b[0m \u001b[0;34m\u001b[0m\u001b[0m\n\u001b[1;32m      4\u001b[0m \u001b[0;31m# Access value of 'name'\u001b[0m\u001b[0;34m\u001b[0m\u001b[0;34m\u001b[0m\u001b[0m\n\u001b[1;32m      5\u001b[0m \u001b[0mname_value\u001b[0m \u001b[0;34m=\u001b[0m \u001b[0mperson\u001b[0m\u001b[0;34m[\u001b[0m\u001b[0;34m'name'\u001b[0m\u001b[0;34m]\u001b[0m\u001b[0;34m\u001b[0m\u001b[0;34m\u001b[0m\u001b[0m\n",
            "\u001b[0;31mNameError\u001b[0m: name 'Alice' is not defined"
          ]
        }
      ]
    },
    {
      "cell_type": "code",
      "source": [
        "23.  # Dictionary\n",
        "person = {'name': 'Alice', 'age': 30}\n",
        "\n",
        "# Access value of 'name'\n",
        "name_value = person['name']\n",
        "\n",
        "# Print result\n",
        "print(name_value)"
      ],
      "metadata": {
        "colab": {
          "base_uri": "https://localhost:8080/"
        },
        "id": "Obh3KRUEsvfo",
        "outputId": "1fc1ef40-717c-4525-c159-377cb9d6f63c"
      },
      "execution_count": 26,
      "outputs": [
        {
          "output_type": "stream",
          "name": "stdout",
          "text": [
            "Alice\n"
          ]
        }
      ]
    },
    {
      "cell_type": "markdown",
      "source": [
        "24. Write a code to remove the key \"age\" from the dictionary {'name': 'Bob', 'age': 22, 'city': 'New York'}.\n",
        "\n"
      ],
      "metadata": {
        "id": "vZn2hWFNs6ob"
      }
    },
    {
      "cell_type": "code",
      "source": [
        "24. # Original dictionary\n",
        "person = {'name': 'Bob', 'age': 22, 'city': 'New York'}\n",
        "\n",
        "# Remove key 'age'\n",
        "person.pop('age')\n",
        "\n",
        "# Print updated dictionary\n",
        "print(person)"
      ],
      "metadata": {
        "colab": {
          "base_uri": "https://localhost:8080/"
        },
        "id": "ysN3uYLytAgq",
        "outputId": "421a3940-e548-4909-ad87-fee6ec13218b"
      },
      "execution_count": 27,
      "outputs": [
        {
          "output_type": "stream",
          "name": "stdout",
          "text": [
            "{'name': 'Bob', 'city': 'New York'}\n"
          ]
        }
      ]
    },
    {
      "cell_type": "markdown",
      "source": [
        "25. Write a code to check if the key \"city\" exists in the dictionary {'name': 'Alice', 'city': 'Paris'}."
      ],
      "metadata": {
        "id": "F6GAMHYYtMzU"
      }
    },
    {
      "cell_type": "code",
      "source": [
        "25. # Dictionary\n",
        "person = {'name': 'Alice', 'city': 'Paris'}\n",
        "\n",
        "# Check if 'city' key exists\n",
        "key_exists = 'city' in person\n",
        "\n",
        "# Print result\n",
        "print(key_exists)"
      ],
      "metadata": {
        "colab": {
          "base_uri": "https://localhost:8080/"
        },
        "id": "4RTJzX8KtYAe",
        "outputId": "fcc23f60-d772-48f5-c594-a7e26efe9dab"
      },
      "execution_count": 28,
      "outputs": [
        {
          "output_type": "stream",
          "name": "stdout",
          "text": [
            "True\n"
          ]
        }
      ]
    },
    {
      "cell_type": "markdown",
      "source": [
        "26. Write a code to create a list, a tuple, and a dictionary, and print them all."
      ],
      "metadata": {
        "id": "CA0ozTr7th6D"
      }
    },
    {
      "cell_type": "code",
      "source": [
        "26.  # Create a list\n",
        "my_list = [1, 2, 3]\n",
        "\n",
        "# Create a tuple\n",
        "my_tuple = ('a', 'b', 'c')\n",
        "\n",
        "# Create a dictionary\n",
        "my_dict = {'name': 'Itishri', 'age': 25}\n",
        "\n",
        "# Print all\n",
        "print(\"List:\", my_list)\n",
        "print(\"Tuple:\", my_tuple)\n",
        "print(\"Dictionary:\", my_dict)"
      ],
      "metadata": {
        "colab": {
          "base_uri": "https://localhost:8080/"
        },
        "id": "tufmTCDwtn8Z",
        "outputId": "b8e6d057-7d18-4bdb-8520-86e4914123d9"
      },
      "execution_count": 29,
      "outputs": [
        {
          "output_type": "stream",
          "name": "stdout",
          "text": [
            "List: [1, 2, 3]\n",
            "Tuple: ('a', 'b', 'c')\n",
            "Dictionary: {'name': 'Itishri', 'age': 25}\n"
          ]
        }
      ]
    },
    {
      "cell_type": "markdown",
      "source": [
        "27. Write a code to create a list of 5 random numbers between 1 and 100, sort it in ascending order, and print the\n",
        "result.(replaced)"
      ],
      "metadata": {
        "id": "iBNfOkqQtxSo"
      }
    },
    {
      "cell_type": "code",
      "source": [
        "import random\n",
        "\n",
        "# Create a list of 5 random numbers between 1 and 100\n",
        "numbers = [random.randint(1, 100) for _ in range(5)]\n",
        "\n",
        "# Sort the list in ascending order\n",
        "numbers.sort()\n",
        "\n",
        "# Print the result\n",
        "print(numbers)"
      ],
      "metadata": {
        "colab": {
          "base_uri": "https://localhost:8080/"
        },
        "id": "OU6NRY3Kt4aE",
        "outputId": "4b358889-bae7-424f-8ae7-b1dcccb1c86c"
      },
      "execution_count": 30,
      "outputs": [
        {
          "output_type": "stream",
          "name": "stdout",
          "text": [
            "[7, 67, 74, 75, 80]\n"
          ]
        }
      ]
    },
    {
      "cell_type": "markdown",
      "source": [
        "28. Write a code to create a list with strings and print the element at the third index.\n",
        "\n"
      ],
      "metadata": {
        "id": "41uOP71GuEVI"
      }
    },
    {
      "cell_type": "code",
      "source": [
        "28. # List of strings\n",
        "fruits = [\"apple\", \"banana\", \"cherry\", \"mango\", \"orange\"]\n",
        "\n",
        "# Access element at third index\n",
        "third_element = fruits[3]\n",
        "\n",
        "# Print result\n",
        "print(third_element)"
      ],
      "metadata": {
        "colab": {
          "base_uri": "https://localhost:8080/"
        },
        "id": "QZWWIPjvuJu4",
        "outputId": "fcd45a98-3251-4012-9454-c52bb65fb187"
      },
      "execution_count": 31,
      "outputs": [
        {
          "output_type": "stream",
          "name": "stdout",
          "text": [
            "mango\n"
          ]
        }
      ]
    },
    {
      "cell_type": "markdown",
      "source": [
        "29. Write a code to combine two dictionaries into one and print the result."
      ],
      "metadata": {
        "id": "yqqTPaQMuQAV"
      }
    },
    {
      "cell_type": "code",
      "source": [
        "# Two dictionaries\n",
        "dict1 = {'a': 1, 'b': 2}\n",
        "dict2 = {'c': 3, 'd': 4}\n",
        "\n",
        "# Combine dictionaries\n",
        "combined_dict = {**dict1, **dict2}\n",
        "\n",
        "# Print result\n",
        "print(combined_dict)"
      ],
      "metadata": {
        "colab": {
          "base_uri": "https://localhost:8080/"
        },
        "id": "gfh_troiuUGI",
        "outputId": "c0caf13b-097a-48e1-875b-370e75cd367e"
      },
      "execution_count": 32,
      "outputs": [
        {
          "output_type": "stream",
          "name": "stdout",
          "text": [
            "{'a': 1, 'b': 2, 'c': 3, 'd': 4}\n"
          ]
        }
      ]
    },
    {
      "cell_type": "markdown",
      "source": [
        "30.  Write a code to convert a list of strings into a set"
      ],
      "metadata": {
        "id": "QJGD2ppUudJM"
      }
    },
    {
      "cell_type": "code",
      "source": [
        "# List of strings\n",
        "fruits = [\"apple\", \"banana\", \"apple\", \"mango\"]\n",
        "\n",
        "# Convert list to set\n",
        "fruits_set = set(fruits)\n",
        "\n",
        "# Print result\n",
        "print(fruits_set)"
      ],
      "metadata": {
        "colab": {
          "base_uri": "https://localhost:8080/"
        },
        "id": "vp4Lr8S-ukrz",
        "outputId": "55f97469-1741-4264-fe6b-d7cb030f4d47"
      },
      "execution_count": 33,
      "outputs": [
        {
          "output_type": "stream",
          "name": "stdout",
          "text": [
            "{'banana', 'apple', 'mango'}\n"
          ]
        }
      ]
    }
  ]
}